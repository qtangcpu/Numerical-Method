{
 "cells": [
  {
   "cell_type": "code",
   "execution_count": 1,
   "metadata": {},
   "outputs": [],
   "source": [
    "import numpy as np"
   ]
  },
  {
   "cell_type": "markdown",
   "metadata": {},
   "source": [
    "# Problem 1"
   ]
  },
  {
   "cell_type": "markdown",
   "metadata": {},
   "source": [
    "### a)\n",
    "\n",
    "$dC_t = \\frac{\\partial C}{\\partial r_t}dr_t+\\frac{\\partial C}{\\partial t}dt+\\frac{1}{2}\\frac{\\partial^2 C}{\\partial r_t^2}(dr_t)^2$\n",
    "\n",
    "$= \\alpha(r_t,t)\\frac{\\partial C}{\\partial r_t}dt+\\beta(r_t,t)\\frac{\\partial C}{\\partial r_t}dW_t+\\frac{\\partial C}{\\partial t}dt+\\frac{1}{2}\\frac{\\partial^2 C}{\\partial r_t^2}\\beta^2(r_t,t)dt$\n",
    "\n",
    "$=(\\alpha(r_t,t)\\frac{\\partial C}{\\partial r_t}+\\frac{1}{2}\\frac{\\partial^2 C}{\\partial r_t^2}\\beta^2(r_t,t)+\\frac{\\partial C}{\\partial t})dt+\\beta(r_t,t)\\frac{\\partial C}{\\partial r_t}dW_t$\n",
    "\n",
    "Set drift equal to rC\n",
    "\\begin{align}\n",
    "&\\implies \\alpha(r,t)\\frac{\\partial C}{\\partial r}+\\frac{1}{2}\\frac{\\partial^2 C}{\\partial r^2}\\beta^2(r,t)+\\frac{\\partial C}{\\partial t}=rC(r,t)\n",
    "\\end{align}\n",
    "\n"
   ]
  },
  {
   "cell_type": "markdown",
   "metadata": {},
   "source": [
    "### b)\n",
    "As shown in slides\n",
    "\n",
    "$q_u = \\frac{1}{2}\\big[\\frac{\\kappa(\\theta-r_j)\\Delta t}{\\Delta r}+\\frac{\\sigma^2\\Delta t}{(\\Delta r)^2}\\big]$\n",
    "\n",
    "$q_m = 1-\\frac{\\sigma^2\\Delta t}{(\\Delta r)^2}$\n",
    "\n",
    "$q_u = \\frac{1}{2}\\big[-\\frac{\\kappa(\\theta-r_j)\\Delta t}{\\Delta r}+\\frac{\\sigma^2\\Delta t}{(\\Delta r)^2}\\big]$"
   ]
  },
  {
   "cell_type": "code",
   "execution_count": 10,
   "metadata": {},
   "outputs": [],
   "source": [
    "class Vasicek:\n",
    "    \n",
    "    def __init__(self,kappa,theta,sigma): \n",
    "        self.kappa=kappa\n",
    "        self.theta=theta\n",
    "        self.sigma=sigma"
   ]
  },
  {
   "cell_type": "code",
   "execution_count": 11,
   "metadata": {},
   "outputs": [],
   "source": [
    "hw3dynamics = Vasicek(kappa=3,theta=0.05,sigma=0.03)"
   ]
  },
  {
   "cell_type": "code",
   "execution_count": 12,
   "metadata": {},
   "outputs": [],
   "source": [
    "class Bond:\n",
    "    \n",
    "    def __init__(self, T):\n",
    "        self.T=T\n",
    "    "
   ]
  },
  {
   "cell_type": "code",
   "execution_count": 13,
   "metadata": {},
   "outputs": [],
   "source": [
    "hw3contract = Bond(T=5)"
   ]
  },
  {
   "cell_type": "code",
   "execution_count": 38,
   "metadata": {},
   "outputs": [],
   "source": [
    "class FDexplicit:\n",
    "    \n",
    "    def __init__(self, rMax, rMin, deltar, deltat, useUpwind):         \n",
    "        self.rMax=rMax\n",
    "        self.rMin=rMin\n",
    "        self.deltar=deltar\n",
    "        self.deltat=deltat\n",
    "        self.useUpwind=useUpwind\n",
    "        \n",
    "    \n",
    "    def price_bond_vasicek(self,contract,dynamics):\n",
    "    # You complete the coding of this function\n",
    "    #\n",
    "    # Returns array of all initial short rates,\n",
    "    # and the corresponding array of zero-coupon\n",
    "    # T-maturity bond prices\n",
    "        T = contract.T\n",
    "        N=round(T/self.deltat)\n",
    "        if abs(N-T/self.deltat) > 1e-12:\n",
    "            raise ValueError(\"Bad delta t\")\n",
    "\n",
    "        r=np.arange(self.rMax,self.rMin-self.deltar/2,-self.deltar)   #I'm making the FIRST indices of the array correspond to HIGH levels of r\n",
    "        bondprice=np.ones(np.size(r))\n",
    "        \n",
    "        a=dynamics.kappa*(dynamics.theta-r)*self.deltat/self.deltar\n",
    "        b=(dynamics.sigma**2*self.deltat/(self.deltar**2))\n",
    "        \n",
    "        if self.useUpwind:\n",
    "#             print(b,a)\n",
    "            qu=    0.5*(b+a+abs(a))\n",
    "            qd=    0.5*(b-a+abs(a))\n",
    "            qm=    1-qu-qd\n",
    "        else:\n",
    "            qu=    0.5*(a+b)\n",
    "            qm=    1-b\n",
    "            qd=    0.5*(b-a)\n",
    "\n",
    "        for t in np.arange(N-1,-1,-1)*self.deltat:\n",
    "            bondprice=1/(1+r*self.deltat)*(qd*np.roll(bondprice,-1)+qm*bondprice+qu*np.roll(bondprice,1))\n",
    "            # It is not obvious in this case, \n",
    "            # what boundary conditions to use at the top and bottom\n",
    "            # so let us assume \"linearity\" boundary conditions\n",
    "            bondprice[0]=2*bondprice[1]-bondprice[2]\n",
    "            bondprice[-1]=2*bondprice[-2]-bondprice[-3]\n",
    "\n",
    "        return (r, bondprice)"
   ]
  },
  {
   "cell_type": "code",
   "execution_count": 39,
   "metadata": {},
   "outputs": [],
   "source": [
    "hw3FD = FDexplicit(rMax=0.35,rMin=-0.25,deltar=0.01,deltat=0.01,useUpwind=False)"
   ]
  },
  {
   "cell_type": "code",
   "execution_count": 40,
   "metadata": {},
   "outputs": [],
   "source": [
    "(r, bondprice) = hw3FD.price_bond_vasicek(hw3contract,hw3dynamics)"
   ]
  },
  {
   "cell_type": "code",
   "execution_count": 41,
   "metadata": {},
   "outputs": [],
   "source": [
    "np.set_printoptions(precision=4,suppress=True)\n",
    "displayrows=(r<0.15+hw3FD.deltar/2) & (r>0.0-hw3FD.deltar/2)"
   ]
  },
  {
   "cell_type": "code",
   "execution_count": 42,
   "metadata": {},
   "outputs": [
    {
     "name": "stdout",
     "output_type": "stream",
     "text": [
      "[[ 1.5000e-01 -1.4273e+09]\n",
      " [ 1.4000e-01  1.6361e+08]\n",
      " [ 1.3000e-01  2.2294e+07]\n",
      " [ 1.2000e-01 -1.3724e+06]\n",
      " [ 1.1000e-01 -1.3361e+05]\n",
      " [ 1.0000e-01  3.2966e+03]\n",
      " [ 9.0000e-02  1.3021e+02]\n",
      " [ 8.0000e-02  7.7128e-01]\n",
      " [ 7.0000e-02  7.7385e-01]\n",
      " [ 6.0000e-02  7.7643e-01]\n",
      " [ 5.0000e-02  7.7902e-01]\n",
      " [ 4.0000e-02  7.8162e-01]\n",
      " [ 3.0000e-02  7.8423e-01]\n",
      " [ 2.0000e-02  7.8685e-01]\n",
      " [ 1.0000e-02  1.4165e+03]\n",
      " [-3.3307e-16  5.1498e+04]]\n"
     ]
    }
   ],
   "source": [
    "central_diff_price = np.stack((r, bondprice),1)[displayrows]\n",
    "print(central_diff_price )"
   ]
  },
  {
   "cell_type": "markdown",
   "metadata": {},
   "source": [
    "### c)"
   ]
  },
  {
   "cell_type": "markdown",
   "metadata": {},
   "source": [
    "Case1: $\\kappa(\\theta-r_j)\\ge 0$\n",
    "\n",
    "$\\frac{\\partial C}{\\partial r}\\approx\\frac{C^{j+1}_{n+1}-C^{j}_{n+1}}{\\Delta r}$\n",
    "\n",
    "So: \n",
    "\n",
    "$q_u = \\frac{\\kappa(\\theta-r_j)\\Delta t}{\\Delta r}+\\frac{\\sigma^2\\Delta t}{2(\\Delta r)^2}$\n",
    "\n",
    "$q_m = 1-\\frac{\\sigma^2\\Delta t}{(\\Delta r)^2}-\\frac{\\kappa(\\theta-r_j)\\Delta t}{\\Delta r}$\n",
    "\n",
    "$q_d = \\frac{\\sigma^2\\Delta t}{2(\\Delta r)^2}$\n",
    "\n",
    "\n",
    "\n",
    "Case2: $\\kappa(\\theta-r_j) < 0$\n",
    "\n",
    "$\\frac{\\partial C}{\\partial r}\\approx\\frac{C^{j+1}_{n}-C^{j}_{n-1}}{\\Delta r}$\n",
    "\n",
    "So:\n",
    "\n",
    "$q_u = \\frac{\\sigma^2\\Delta t}{2(\\Delta r)^2}$\n",
    "\n",
    "$q_m = 1-\\frac{\\sigma^2\\Delta t}{(\\Delta r)^2}+\\frac{\\kappa(\\theta-r_j)\\Delta t}{\\Delta r}$\n",
    "\n",
    "$q_d = \\frac{\\sigma^2\\Delta t}{2(\\Delta r)^2}-\\frac{\\kappa(\\theta-r_j)\\Delta t}{\\Delta r}$\n"
   ]
  },
  {
   "cell_type": "markdown",
   "metadata": {},
   "source": [
    "So:\n",
    "    \n",
    "- $q_u = \\frac{\\sigma^2\\Delta t}{2(\\Delta r)^2}+(\\frac{\\kappa(\\theta-r_j)\\Delta t}{\\Delta r})^+$\n",
    "\n",
    "- $q_m = 1-\\frac{\\sigma^2\\Delta t}{(\\Delta r)^2}-\\big|\\frac{\\kappa(\\theta-r_j)\\Delta t}{\\Delta r}\\big|=1-q_u-q_d$\n",
    "\n",
    "- $q_u = \\frac{\\sigma^2\\Delta t}{2(\\Delta r)^2}+(-\\frac{\\kappa(\\theta-r_j)\\Delta t}{\\Delta r})^+$"
   ]
  },
  {
   "cell_type": "code",
   "execution_count": 43,
   "metadata": {},
   "outputs": [
    {
     "name": "stdout",
     "output_type": "stream",
     "text": [
      "[[ 0.15    0.7536]\n",
      " [ 0.14    0.7561]\n",
      " [ 0.13    0.7586]\n",
      " [ 0.12    0.7611]\n",
      " [ 0.11    0.7637]\n",
      " [ 0.1     0.7662]\n",
      " [ 0.09    0.7688]\n",
      " [ 0.08    0.7713]\n",
      " [ 0.07    0.7739]\n",
      " [ 0.06    0.7765]\n",
      " [ 0.05    0.7791]\n",
      " [ 0.04    0.7817]\n",
      " [ 0.03    0.7843]\n",
      " [ 0.02    0.7869]\n",
      " [ 0.01    0.7895]\n",
      " [-0.      0.7922]]\n"
     ]
    }
   ],
   "source": [
    "hw3FD_upwind = FDexplicit(rMax=0.35,rMin=-0.25,deltar=0.01,deltat=0.01,useUpwind=True)\n",
    "(r, bondprice) = hw3FD_upwind.price_bond_vasicek(hw3contract,hw3dynamics)\n",
    "np.set_printoptions(precision=4,suppress=True)\n",
    "displayrows=(r<0.15+hw3FD.deltar/2) & (r>0.0-hw3FD.deltar/2)\n",
    "upwind_price = np.stack((r, bondprice),1)[displayrows]\n",
    "print(upwind_price)"
   ]
  },
  {
   "cell_type": "markdown",
   "metadata": {},
   "source": [
    "### d)"
   ]
  },
  {
   "cell_type": "markdown",
   "metadata": {},
   "source": [
    "Taylor's expansion:\n",
    "\n",
    "$f(x+h)=f(x)+hf'(x)+\\frac{1}{2}h^2f''(x)+O(h^3)$\n",
    "\n",
    "$f(x-h)=f(x)-hf'(x)+\\frac{1}{2}h^2f''(x)+O(h^3)$\n",
    "\n",
    "$\\big|\\frac{f(x+h)-f(x)}{h}-f'(x)\\big|=\\frac{1}{2}hf''(x)+\\frac{O(h^3)}{h}=O(h)$\n",
    "\n",
    "$\\big|\\frac{f(x+h)-f(x-h)}{2h}-f'(x)\\big|$ is definitely bounded by a constant times h2, \n",
    "$\\therefore \\big|\\frac{f(x+h)-f(x-h)}{2h}-f'(x)\\big|==O(h^2)$"
   ]
  },
  {
   "cell_type": "markdown",
   "metadata": {},
   "source": [
    "### e)"
   ]
  },
  {
   "cell_type": "code",
   "execution_count": 51,
   "metadata": {},
   "outputs": [
    {
     "data": {
      "text/plain": [
       "array([[   0.1   , 3296.5929]])"
      ]
     },
     "execution_count": 51,
     "metadata": {},
     "output_type": "execute_result"
    }
   ],
   "source": [
    "central_diff_price[abs(central_diff_price[:,0]-0.1)<1e-12]"
   ]
  },
  {
   "cell_type": "code",
   "execution_count": 57,
   "metadata": {},
   "outputs": [
    {
     "data": {
      "text/plain": [
       "array([[0.1   , 0.7662]])"
      ]
     },
     "execution_count": 57,
     "metadata": {},
     "output_type": "execute_result"
    }
   ],
   "source": [
    "upwind_price[abs(upwind_price[:,0]-0.1)<1e-12]"
   ]
  },
  {
   "cell_type": "markdown",
   "metadata": {},
   "source": [
    "The result from central difference is very inaccurate and result from upwind calculation is more accurate. "
   ]
  },
  {
   "cell_type": "markdown",
   "metadata": {},
   "source": [
    "### f)"
   ]
  },
  {
   "cell_type": "markdown",
   "metadata": {},
   "source": [
    "Less ; Greater"
   ]
  },
  {
   "cell_type": "markdown",
   "metadata": {},
   "source": [
    "### g)"
   ]
  },
  {
   "cell_type": "markdown",
   "metadata": {},
   "source": [
    "We are using upwind calculation for both case"
   ]
  },
  {
   "cell_type": "code",
   "execution_count": 59,
   "metadata": {},
   "outputs": [
    {
     "data": {
      "text/plain": [
       "0.05458660238621129"
      ]
     },
     "execution_count": 59,
     "metadata": {},
     "output_type": "execute_result"
    }
   ],
   "source": [
    "# r0 = 0.12\n",
    "pt = upwind_price[abs(upwind_price[:,0]-0.12)<1e-12][0,1]\n",
    "ytm = np.log(abs(1/pt))/5.0\n",
    "ytm"
   ]
  },
  {
   "cell_type": "code",
   "execution_count": 60,
   "metadata": {},
   "outputs": [
    {
     "data": {
      "text/plain": [
       "0.04792684524038049"
      ]
     },
     "execution_count": 60,
     "metadata": {},
     "output_type": "execute_result"
    }
   ],
   "source": [
    "#r0 = 0.02\n",
    "pt =upwind_price[abs(upwind_price[:,0]-0.02)<1e-12][0,1]\n",
    "ytm = np.log(abs(1/pt))/5.0\n",
    "ytm"
   ]
  },
  {
   "cell_type": "markdown",
   "metadata": {},
   "source": [
    "This PDE of r satisfy the OU Process, so the $\\theta$ can be treated as the long-term mean of r.\n",
    "Therefore, the ytm should be converging to its long term mean as of 0.05 from their $r_0$."
   ]
  },
  {
   "cell_type": "markdown",
   "metadata": {},
   "source": [
    "# Problem 2"
   ]
  },
  {
   "cell_type": "markdown",
   "metadata": {},
   "source": [
    "### a)"
   ]
  },
  {
   "cell_type": "markdown",
   "metadata": {},
   "source": [
    "$\\sigma_{imp}=\\bar{\\sigma_T}=\\sqrt{\\frac{1}{T}\\int_0^T\\sigma^2(t)dt}$"
   ]
  },
  {
   "cell_type": "markdown",
   "metadata": {},
   "source": [
    "This dynamics is capable of generating a non-constant (with respect to T ) term-structure of implied volatility but not generating an implied volatility skew (non-constant with respect to K) \n",
    "\n",
    "Because it $\\sigma_{imp}$ is a function of t but not K"
   ]
  },
  {
   "cell_type": "markdown",
   "metadata": {},
   "source": [
    "### b)"
   ]
  },
  {
   "cell_type": "code",
   "execution_count": 66,
   "metadata": {},
   "outputs": [],
   "source": [
    "# use code from hw1\n",
    "import numpy as np\n",
    "from scipy.stats import norm\n",
    "from scipy.optimize import bisect, brentq\n",
    "import math\n",
    "class GBMdynamics: \n",
    "    \n",
    "    def __init__(self, S, r, rGrow, sigma=None):\n",
    "        self.S = S\n",
    "        self.r = r\n",
    "        self.rGrow = rGrow\n",
    "        self.sigma = sigma\n",
    "        \n",
    "    def update_sigma(self, sigma):\n",
    "        self.sigma = sigma\n",
    "        return self\n",
    "class CallOption:\n",
    "    \n",
    "    def __init__(self, K, T, price=None):\n",
    "        self.K = K\n",
    "        self.T = T\n",
    "        self.price = price\n",
    "\n",
    "    def BSprice(self, dynamics):\n",
    "        # ignores self.price if given, because this function calculates price based on the dynamics \n",
    "        \n",
    "        F = dynamics.S*np.exp(dynamics.rGrow*self.T)\n",
    "        sd = dynamics.sigma*np.sqrt(self.T)\n",
    "        d1 = np.log(F/self.K)/sd+sd/2\n",
    "        d2 = d1-sd\n",
    "        return np.exp(-dynamics.r*self.T)*(F*norm.cdf(d1)-self.K*norm.cdf(d2))\n",
    "    \n",
    "    def IV(self, dynamics):\n",
    "        # ignores dynamics.sigma, because this function solves for sigma.  \n",
    "        \n",
    "        if self.price is None: \n",
    "            raise ValueError('Contract price must be given')\n",
    "    \n",
    "        df = np.exp(-dynamics.r*self.T)  #discount factor\n",
    "        F = dynamics.S / df\n",
    "        lowerbound = np.max([0,(F-self.K)*df])\n",
    "        C = self.price\n",
    "        if C<lowerbound:\n",
    "            return np.nan\n",
    "        if C==lowerbound:\n",
    "            return 0\n",
    "        if C>=F*df:\n",
    "            return np.nan \n",
    "        # C should be np.max([0,(F-self.K)*df]) < C < F*df\n",
    "\n",
    "        dytry = dynamics\n",
    "        # We \"try\" values of sigma until we find sigma that generates price C\n",
    "\n",
    "        # First find lower and upper bounds\n",
    "        dytry.sigma = 0.2\n",
    "        while self.BSprice(dytry)>C:\n",
    "            dytry.sigma /= 2\n",
    "        while self.BSprice(dytry)<C:\n",
    "            dytry.sigma *= 2\n",
    "        hi = dytry.sigma\n",
    "        lo = hi/2\n",
    "                           \n",
    "        # We have calculated \"lo\" and \"hi\" which bound the implied volatility from below and above. \n",
    "        # In other words, the implied volatility is somewhere in the interval [lo,hi].\n",
    "        # Then, to calculate the implied volatility within that interval, \n",
    "        # for purposes of this homework, you may either (A) write your own bisection algorithm, \n",
    "        # or (B) use scipy.optimize.bisect or (C) use scipy.optimize.brentq\n",
    "        # You will need to provide lo and hi to those solvers.\n",
    "        # There are other solvers that do not require you to bound the solution \n",
    "        # from below and above (for instance, scipy.optimize.fsolve is a useful solver).  \n",
    "        # However, if you are able to bound the solution (of a single-variable problem), \n",
    "        # then bisection or Brent will be more reliable.\n",
    "        function = lambda sigma: self.BSprice(dynamics.update_sigma(sigma)) - self.price\n",
    "        impliedVolatility = brentq(function , a=lo, b=hi, xtol=1e-4)     # you fill this in, using bisect or brentq imported from scipy.optimize,\n",
    "                                 # or by writing your own bisection algorithm.\n",
    "        return impliedVolatility"
   ]
  },
  {
   "cell_type": "code",
   "execution_count": 67,
   "metadata": {},
   "outputs": [],
   "source": [
    "hw1dynamics = GBMdynamics(S=100, sigma=0.4, rGrow=0.05, r=0.05)\n",
    "contract1 = CallOption(K=100, T=0.1, price = 5.25)\n",
    "contract2 = CallOption(K=100, T=0.2, price = 7.25)\n",
    "contract3 = CallOption(K=100, T=0.5, price = 9.5)"
   ]
  },
  {
   "cell_type": "code",
   "execution_count": 76,
   "metadata": {},
   "outputs": [
    {
     "name": "stdout",
     "output_type": "stream",
     "text": [
      "The Implied Volality at t_0.1 is 0.39732050375365563 \n",
      " The Implied Volality at t_0.2 is 0.38017110912025387 \n",
      " The Implied Volality at t_0.5 is 0.29509733829743456\n"
     ]
    }
   ],
   "source": [
    "print(\"The Implied Volality at t_0.1 is\",contract1.IV(hw1dynamics),'\\n',\n",
    "      \"The Implied Volality at t_0.2 is\",contract2.IV(hw1dynamics) ,'\\n',\n",
    "      \"The Implied Volality at t_0.5 is\",contract3.IV(hw1dynamics))\n"
   ]
  },
  {
   "cell_type": "markdown",
   "metadata": {},
   "source": [
    "we have $\\sigma_{0.1} = 0.397 ,\\sigma_{0.2} = 0.3802,\\sigma_{0.5} = 0.295$\n",
    "\n",
    "A step function suffices:\n",
    "$\\sigma(t)=\\begin{cases} \n",
    "      \\sigma_{0.1} & 0 < t\\leq 0.1 \\\\\n",
    "      \\sqrt{2\\sigma_{0.2}^2-\\sigma_{0.1}^2} & 0.1 < t \\leq 0.2\\\\\n",
    "      \\sqrt{\\frac{1}{3}(5\\sigma_{0.5}^2-2\\sigma_{0.2}^2)} & 0.2 < t \\leq 0.5\n",
    "\\end{cases}$"
   ]
  },
  {
   "cell_type": "markdown",
   "metadata": {},
   "source": [
    "### c)"
   ]
  },
  {
   "cell_type": "markdown",
   "metadata": {},
   "source": [
    "$\\bar\\sigma_{0.4}=\\sqrt{\\frac{1}{0.4}\\int_0^{0.4}\\sigma^2(t)dt}$\n",
    "\n",
    "$=\\sqrt{\\frac{1}{0.4}*(0.1\\sigma_{0.1}^2+0.1(2\\sigma_{0.2}^2-\\sigma_{0.1}^2)+0.2(\\frac{1}{3}(5\\sigma_{0.5}^2-2\\sigma_{0.2}^2))}$\n",
    "\n",
    "$=\\sqrt{\\frac{5}{6}\\sigma_{0.5}^2+\\frac{1}{6}\\sigma^{0.2}_2}$\n"
   ]
  },
  {
   "cell_type": "code",
   "execution_count": 79,
   "metadata": {},
   "outputs": [
    {
     "name": "stdout",
     "output_type": "stream",
     "text": [
      "The price of the European call should be:  8.78420254114681\n"
     ]
    }
   ],
   "source": [
    "Imp_V = ((5*0.29509733829743456**2/6)+(1*0.38017110912025387 **2/6))** 0.5 \n",
    "q2_dynamics = GBMdynamics(S=100, sigma=Imp_V, rGrow=0.05, r=0.05)\n",
    "contract3 = CallOption(K=100, T=0.4)\n",
    "print(\"The price of the European call should be: \",contract3.BSprice(q2_dynamics))"
   ]
  },
  {
   "cell_type": "code",
   "execution_count": null,
   "metadata": {},
   "outputs": [],
   "source": []
  }
 ],
 "metadata": {
  "anaconda-cloud": {},
  "kernelspec": {
   "display_name": "Python 3 (ipykernel)",
   "language": "python",
   "name": "python3"
  },
  "language_info": {
   "codemirror_mode": {
    "name": "ipython",
    "version": 3
   },
   "file_extension": ".py",
   "mimetype": "text/x-python",
   "name": "python",
   "nbconvert_exporter": "python",
   "pygments_lexer": "ipython3",
   "version": "3.9.12"
  },
  "toc": {
   "base_numbering": 1,
   "nav_menu": {},
   "number_sections": true,
   "sideBar": true,
   "skip_h1_title": false,
   "title_cell": "Table of Contents",
   "title_sidebar": "Contents",
   "toc_cell": false,
   "toc_position": {},
   "toc_section_display": true,
   "toc_window_display": false
  }
 },
 "nbformat": 4,
 "nbformat_minor": 2
}

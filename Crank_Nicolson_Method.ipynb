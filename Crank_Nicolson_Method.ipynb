{
 "cells": [
  {
   "cell_type": "markdown",
   "metadata": {},
   "source": [
    "# HW4\n",
    "# Qianle Tang"
   ]
  },
  {
   "cell_type": "markdown",
   "metadata": {},
   "source": [
    "# Problem 1"
   ]
  },
  {
   "cell_type": "markdown",
   "metadata": {},
   "source": [
    "### a)"
   ]
  },
  {
   "cell_type": "markdown",
   "metadata": {},
   "source": [
    "$$dC_t = \\frac{\\partial C}{\\partial S_t}dS + \\frac{\\partial C}{\\partial t}dt + \\frac{1}{2}\\frac{\\partial^2 C}{(\\partial S_t)^2}(dS_t)^2 $$\n",
    " the drift term will be:\n",
    " \n",
    "$$\\frac{\\partial C}{\\partial t} + \\frac{1}{2}\\sigma^2S_t^{2(1+\\alpha)}\\frac{\\partial^2 C}{(\\partial S_t)^2}$$\n",
    "\n",
    "set it equal to $$\\frac{\\partial C}{\\partial t} + \\frac{1}{2}\\sigma^2S_t^{2(1+\\alpha)}\\frac{\\partial^2 C}{(\\partial S_t)^2} = rC$$\n",
    "\n",
    "with:\n",
    "$$C(S_T , T ) = (K - S_T )^+$$"
   ]
  },
  {
   "cell_type": "markdown",
   "metadata": {},
   "source": [
    "### b)"
   ]
  },
  {
   "cell_type": "code",
   "execution_count": null,
   "metadata": {},
   "outputs": [],
   "source": [
    "import numpy as np\n",
    "from scipy.sparse import diags\n",
    "from scipy.sparse.linalg import spsolve"
   ]
  },
  {
   "cell_type": "code",
   "execution_count": 2,
   "metadata": {},
   "outputs": [],
   "source": [
    "class CEV:\n",
    "    \n",
    "    def __init__(self,volcoeff,alpha,rGrow,r,S0):\n",
    "        self.volcoeff = volcoeff\n",
    "        self.alpha = alpha\n",
    "        self.rGrow = rGrow  \n",
    "        self.r = r\n",
    "        self.S0 = S0\n"
   ]
  },
  {
   "cell_type": "code",
   "execution_count": 3,
   "metadata": {},
   "outputs": [],
   "source": [
    "hw4dynamics = CEV(volcoeff=3, alpha=-0.5, rGrow=0, r=0.05, S0=100)"
   ]
  },
  {
   "cell_type": "code",
   "execution_count": 4,
   "metadata": {},
   "outputs": [],
   "source": [
    "class Put:\n",
    "    \n",
    "    def __init__(self,T,K):\n",
    "        self.T = T;\n",
    "        self.K = K;"
   ]
  },
  {
   "cell_type": "code",
   "execution_count": 5,
   "metadata": {},
   "outputs": [],
   "source": [
    "hw4contract=Put(T=0.25,K=100)"
   ]
  },
  {
   "cell_type": "code",
   "execution_count": 26,
   "metadata": {},
   "outputs": [],
   "source": [
    "class FD_CrankNicolson:\n",
    "    \n",
    "    def __init__(self,SMax,SMin,deltaS,deltat):\n",
    "        self.SMax=SMax\n",
    "        self.SMin=SMin\n",
    "        self.deltaS=deltaS\n",
    "        self.deltat=deltat        \n",
    "        \n",
    "        \n",
    "    #You complete the coding of this function:\n",
    "        \n",
    "    def price_put_CEV(self,contract,dynamics):\n",
    "    # returns array of all initial spots,\n",
    "    # and the corresponding array of put prices\n",
    "\n",
    "        alpha, r, rGrow, volcoeff = dynamics.alpha, dynamics.r, dynamics.rGrow, dynamics.volcoeff \n",
    "\n",
    "        # SMin and SMax denote the smallest and largest S in the _interior_.\n",
    "        # The boundary conditions are imposed one level _beyond_, \n",
    "        # e.g. at S_lowboundary=SMin-deltaS, not at SMin.\n",
    "        # To relate to lecture notation, S_lowboundary is S_{-J}\n",
    "        # whereas SMin is S_{-J+1}\n",
    "\n",
    "        N=round(contract.T/self.deltat)\n",
    "        if abs(N-contract.T/self.deltat)>1e-12:\n",
    "            raise ValueError('Bad time step')\n",
    "        numS=round((self.SMax-self.SMin)/self.deltaS)+1\n",
    "        if abs(numS-(self.SMax-self.SMin)/self.deltaS-1)>1e-12:\n",
    "            raise ValueError('Bad time step')\n",
    "        S=np.linspace(self.SMax,self.SMin,numS)    #The FIRST indices in this array are for HIGH levels of S\n",
    "        S_lowboundary=self.SMin-self.deltaS\n",
    "\n",
    "        putprice=np.maximum(contract.K-S,0)\n",
    "\n",
    "        ratio1 = self.deltat/self.deltaS\n",
    "        ratio2 = self.deltat/self.deltaS**2\n",
    "        f =    0.5*(volcoeff**2)*(S**(2+2*alpha))\n",
    "        g =    rGrow*S \n",
    "        h =    -r\n",
    "        F = 0.5*ratio2*f + 0.25*ratio1*g\n",
    "        G =     ratio2*f - 0.50*self.deltat*h\n",
    "        H = 0.5*ratio2*f - 0.25*ratio1*g\n",
    "\n",
    "        #Right-hand-side matrix\n",
    "        RHSmatrix = diags([H[:-1], 1-G, F[1:]], [1,0,-1], shape=(numS,numS), format=\"csr\")\n",
    "\n",
    "        #Left-hand-side matrix\n",
    "        LHSmatrix = diags([-H[:-1], 1+G, -F[1:]], [1,0,-1], shape=(numS,numS), format=\"csr\")\n",
    "        # diags creates SPARSE matrices\n",
    "\n",
    "        for t in np.arange(N-1,-1,-1)*self.deltat:\n",
    "\n",
    "            rhs = RHSmatrix * putprice\n",
    "\n",
    "            #Now let's add the boundary condition vectors.\n",
    "            #They are nonzero only in the last component:\n",
    "            rhs[-1]=rhs[-1]+2*H[-1]*(contract.K-S_lowboundary)\n",
    "\n",
    "            putprice =  spsolve(LHSmatrix, rhs)#You code this.  Hint...\n",
    "            # numpy.linalg.solve, which expects arrays as inputs,\n",
    "            # is fine for small matrix equations, and for matrix equations without special structure.\n",
    "            # But for large matrix equations in which the matrix has special structure,\n",
    "            # we may want a more intelligent solver that can run faster \n",
    "            # by taking advantage of the special structure of the matrix.\n",
    "            # Specifically, in this case, let's try to use a solver that recognizes the SPARSE MATRIX structure.\n",
    "            # Try spsolve, imported from scipy.sparse.linalg\n",
    "            \n",
    "            putprice = np.maximum(putprice, contract.K-S)\n",
    "\n",
    "        return(S, putprice)"
   ]
  },
  {
   "cell_type": "code",
   "execution_count": 7,
   "metadata": {},
   "outputs": [],
   "source": [
    "hw4FD = FD_CrankNicolson(SMax=200,SMin=50,deltaS=0.1,deltat=0.0005)"
   ]
  },
  {
   "cell_type": "code",
   "execution_count": 8,
   "metadata": {},
   "outputs": [],
   "source": [
    "(S0_all, putprice) = hw4FD.price_put_CEV(hw4contract,hw4dynamics)"
   ]
  },
  {
   "cell_type": "code",
   "execution_count": 9,
   "metadata": {},
   "outputs": [
    {
     "name": "stdout",
     "output_type": "stream",
     "text": [
      "[[100.1      5.8704]\n",
      " [100.       5.9183]\n",
      " [ 99.9      5.9665]]\n"
     ]
    }
   ],
   "source": [
    "# pricer_put_CEV_CrankNicolson gives us option prices for ALL S0 from SMin to SMax\n",
    "# But let's display only for a few S0 near 100:\n",
    "\n",
    "displayStart = hw4dynamics.S0-hw4FD.deltaS*1.5 \n",
    "displayEnd   = hw4dynamics.S0+hw4FD.deltaS*1.5\n",
    "displayrows  = (S0_all>displayStart) & (S0_all<displayEnd)\n",
    "np.set_printoptions(precision=4, suppress=True)\n",
    "print(np.stack((S0_all, putprice),axis=1)[displayrows])"
   ]
  },
  {
   "cell_type": "markdown",
   "metadata": {},
   "source": [
    "### c)"
   ]
  },
  {
   "cell_type": "markdown",
   "metadata": {},
   "source": [
    "$$\\Delta = \\frac{C_0^{S_0=100.1}-C_0^{S_0=99.9}}{2\\Delta S} = (5.8704-5.9665)/0.2 = -0.4805$$"
   ]
  },
  {
   "cell_type": "markdown",
   "metadata": {},
   "source": [
    "$$\\Gamma = \\frac{C_0^{S_0=100.1}-2C_0^{S_0=100}+C_0^{S_0=99.9}}{\\Delta S^2} = 0.03$$"
   ]
  },
  {
   "cell_type": "markdown",
   "metadata": {},
   "source": [
    "### d)"
   ]
  },
  {
   "cell_type": "code",
   "execution_count": 27,
   "metadata": {},
   "outputs": [],
   "source": [
    "GBMdynamics = CEV(volcoeff=0.3, alpha=0, rGrow=0.05, r=0.05, S0=100)"
   ]
  },
  {
   "cell_type": "code",
   "execution_count": 28,
   "metadata": {},
   "outputs": [],
   "source": [
    "(S0_all_GBM, putprice_GBM) = hw4FD.price_put_CEV(hw4contract,GBMdynamics)"
   ]
  },
  {
   "cell_type": "code",
   "execution_count": 29,
   "metadata": {},
   "outputs": [
    {
     "name": "stdout",
     "output_type": "stream",
     "text": [
      "[[100.1      5.3973]\n",
      " [100.       5.442 ]\n",
      " [ 99.9      5.487 ]]\n"
     ]
    }
   ],
   "source": [
    "displayStart = GMBdynamics.S0-hw4FD.deltaS*1.5 \n",
    "displayEnd   = GMBdynamics.S0+hw4FD.deltaS*1.5\n",
    "displayrows  = (S0_all_GBM>displayStart) & (S0_all_GBM<displayEnd)\n",
    "#np.set_printoptions(precision=4, suppress=True)\n",
    "print(np.stack((S0_all_GBM, putprice_GBM),axis=1)[displayrows])"
   ]
  },
  {
   "cell_type": "markdown",
   "metadata": {},
   "source": [
    "# Problem 2"
   ]
  },
  {
   "cell_type": "markdown",
   "metadata": {},
   "source": [
    "### a)"
   ]
  },
  {
   "cell_type": "markdown",
   "metadata": {},
   "source": [
    "$$\\Delta = N(d1)$$\n",
    "so:\n",
    "$$d1 = inv\\Phi(\\Delta)$$\n"
   ]
  },
  {
   "cell_type": "markdown",
   "metadata": {},
   "source": [
    "where d1 has a specific form in the function:"
   ]
  },
  {
   "cell_type": "code",
   "execution_count": 32,
   "metadata": {},
   "outputs": [],
   "source": [
    "def BScallPrice(sigma,S,r,K,T): \n",
    "    sd = sigma*np.sqrt(T)\n",
    "    F = S*np.exp(r*T)\n",
    "    d1 = np.log(F/K)/sd+sd/2\n",
    "    d2 = d1-sd\n",
    "    return S*norm.cdf(d1)-K*norm.cdf(d2)*np.exp(-r*T)"
   ]
  },
  {
   "cell_type": "markdown",
   "metadata": {},
   "source": [
    "so $$K = \\frac{S_0e^{rT}}{e^{\\sigma T^{0.5} N^{-1}(\\Delta)-0.5\\sigma^2T}}$$"
   ]
  },
  {
   "cell_type": "markdown",
   "metadata": {},
   "source": [
    "### b)"
   ]
  },
  {
   "cell_type": "code",
   "execution_count": 33,
   "metadata": {},
   "outputs": [],
   "source": [
    "import numpy as np\n",
    "from scipy.stats import norm"
   ]
  },
  {
   "cell_type": "code",
   "execution_count": 34,
   "metadata": {},
   "outputs": [],
   "source": [
    "def BScallPrice(sigma,S,r,K,T): \n",
    "    sd = sigma*np.sqrt(T)\n",
    "    F = S*np.exp(r*T)\n",
    "    d1 = np.log(F/K)/sd+sd/2\n",
    "    d2 = d1-sd\n",
    "    return S*norm.cdf(d1)-K*norm.cdf(d2)*np.exp(-r*T)"
   ]
  },
  {
   "cell_type": "code",
   "execution_count": 35,
   "metadata": {},
   "outputs": [],
   "source": [
    "def KfromDelta(S,sigma,r,T,delta):\n",
    "    invN = norm.ppf(delta)\n",
    "    num = S*np.exp(r*T)\n",
    "    den = np.exp(sigma*np.sqrt(T)*invN - 0.5*sigma**2*T) \n",
    "    return num/den"
   ]
  },
  {
   "cell_type": "code",
   "execution_count": 36,
   "metadata": {},
   "outputs": [],
   "source": [
    "K1 = KfromDelta(300,0.4,0.01,1/12,0.25)\n",
    "K2 = KfromDelta(300,0.4,0.01,1/12,0.75)\n",
    "C1 = BScallPrice(0.4,300,0.01,K1,1/12)\n",
    "C2 = BScallPrice(0.4,300,0.01,K2,1/12)"
   ]
  },
  {
   "cell_type": "code",
   "execution_count": 37,
   "metadata": {},
   "outputs": [
    {
     "data": {
      "text/plain": [
       "[326.7403577236786, 4.882592053953928]"
      ]
     },
     "execution_count": 37,
     "metadata": {},
     "output_type": "execute_result"
    }
   ],
   "source": [
    "#delta = 0.25\n",
    "[K1, C1]"
   ]
  },
  {
   "cell_type": "code",
   "execution_count": 38,
   "metadata": {},
   "outputs": [
    {
     "data": {
      "text/plain": [
       "[279.61093160299833, 26.103562887425056]"
      ]
     },
     "execution_count": 38,
     "metadata": {},
     "output_type": "execute_result"
    }
   ],
   "source": [
    "#delta = 0.75\n",
    "[K2, C2]"
   ]
  },
  {
   "cell_type": "markdown",
   "metadata": {},
   "source": [
    "### c)"
   ]
  },
  {
   "cell_type": "code",
   "execution_count": 39,
   "metadata": {},
   "outputs": [
    {
     "data": {
      "text/plain": [
       "15.36069349460906"
      ]
     },
     "execution_count": 39,
     "metadata": {},
     "output_type": "execute_result"
    }
   ],
   "source": [
    "# for 25-delta call:\n",
    "0.25*300/4.882592053953928"
   ]
  },
  {
   "cell_type": "code",
   "execution_count": 40,
   "metadata": {},
   "outputs": [
    {
     "data": {
      "text/plain": [
       "8.619513013236592"
      ]
     },
     "execution_count": 40,
     "metadata": {},
     "output_type": "execute_result"
    }
   ],
   "source": [
    "# for the 75-delta call:\n",
    "0.75*300/26.103562887425056"
   ]
  },
  {
   "cell_type": "markdown",
   "metadata": {},
   "source": [
    "25-delta call gives higher leverage"
   ]
  },
  {
   "cell_type": "code",
   "execution_count": null,
   "metadata": {},
   "outputs": [],
   "source": []
  }
 ],
 "metadata": {
  "anaconda-cloud": {},
  "kernelspec": {
   "display_name": "Python 3 (ipykernel)",
   "language": "python",
   "name": "python3"
  },
  "language_info": {
   "codemirror_mode": {
    "name": "ipython",
    "version": 3
   },
   "file_extension": ".py",
   "mimetype": "text/x-python",
   "name": "python",
   "nbconvert_exporter": "python",
   "pygments_lexer": "ipython3",
   "version": "3.9.12"
  },
  "toc": {
   "base_numbering": 1,
   "nav_menu": {},
   "number_sections": true,
   "sideBar": true,
   "skip_h1_title": false,
   "title_cell": "Table of Contents",
   "title_sidebar": "Contents",
   "toc_cell": false,
   "toc_position": {},
   "toc_section_display": true,
   "toc_window_display": false
  }
 },
 "nbformat": 4,
 "nbformat_minor": 1
}

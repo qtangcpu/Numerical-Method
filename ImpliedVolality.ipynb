{
 "cells": [
  {
   "cell_type": "markdown",
   "metadata": {},
   "source": [
    "# HW_2\n",
    "\n",
    "# Qianle Tang"
   ]
  },
  {
   "cell_type": "code",
   "execution_count": 43,
   "metadata": {},
   "outputs": [],
   "source": [
    "import numpy as np"
   ]
  },
  {
   "cell_type": "markdown",
   "metadata": {},
   "source": [
    "# Problem 1"
   ]
  },
  {
   "cell_type": "code",
   "execution_count": 44,
   "metadata": {},
   "outputs": [],
   "source": [
    "class localvolDynamics:\n",
    "    \n",
    "    def __init__(self, S0, r, q, maxvol, localvol): \n",
    "        self.S0 = S0\n",
    "        self.r = r\n",
    "        self.q = q\n",
    "        self.maxvol = maxvol\n",
    "        self.localvol = localvol\n"
   ]
  },
  {
   "cell_type": "code",
   "execution_count": 45,
   "metadata": {},
   "outputs": [],
   "source": [
    "hw2dynamics = localvolDynamics(S0 = 100, r = 0.06, q = 0.01, maxvol = 0.6, \n",
    "                     localvol = lambda S,t: np.minimum(0.2+5*np.log(S/100)**2+0.1*np.exp(-t), 0.6))\n",
    "\n",
    "# Note that hw2dynamics.localvol is a function \n",
    "# that may be invoked in the usual way, for example:\n",
    "# hw2dynamics.localvol( exchangerate , time )"
   ]
  },
  {
   "cell_type": "code",
   "execution_count": 46,
   "metadata": {},
   "outputs": [],
   "source": [
    "class CallOnAmericanPut:\n",
    "\n",
    "    def __init__(self, putexpiry, putstrike, callexpiry, callstrike):\n",
    "        self.putexpiry = putexpiry\n",
    "        self.putstrike = putstrike\n",
    "        self.callexpiry = callexpiry\n",
    "        self.callstrike = callstrike\n",
    "        "
   ]
  },
  {
   "cell_type": "code",
   "execution_count": 47,
   "metadata": {},
   "outputs": [],
   "source": [
    "hw2contract = CallOnAmericanPut(putexpiry=0.75, putstrike=95, callexpiry=0.25, callstrike=10)"
   ]
  },
  {
   "cell_type": "code",
   "execution_count": 48,
   "metadata": {},
   "outputs": [],
   "source": [
    "class TrinomTree:\n",
    "    \n",
    "    def __init__(self, N):\n",
    "        self.N = N\n",
    "        \n",
    "    # You complete the coding of this function\n",
    "    def price_compound_localvol(self, contract, dynamics):\n",
    "        \n",
    "        deltat = 0.75 / self.N\n",
    "        \n",
    "        if not abs(contract.callexpiry / deltat- round(contract.callexpiry / deltat))<= 1e-12:\n",
    "            raise ValueError(\"This value of N fails to place the call expiry in the tree.\")\n",
    "        \n",
    "        representative_vol = dynamics.localvol(dynamics.S0, 0)\n",
    "        \n",
    "        deltax = max(representative_vol * np.sqrt(3 * deltat), dynamics.maxvol * np.sqrt(deltat))\n",
    "        \n",
    "        Sgrid = dynamics.S0*np.exp(np.linspace(self.N, -self.N, num=2*self.N+1, endpoint=True)*deltax)  \n",
    "        \n",
    "        put_price = np.maximum(contract.putstrike - Sgrid, 0)\n",
    "        \n",
    "        for t in np.linspace(self.N-1, 0, num=self.N, endpoint=True)*deltat:\n",
    "            \n",
    "            Sgrid = Sgrid[1:-1]\n",
    "            \n",
    "            sigma = dynamics.localvol(Sgrid, t)\n",
    "            \n",
    "            nu = (dynamics.r - dynamics.q) - 0.5 * sigma ** 2\n",
    "            P_u = 0.5 * ((sigma ** 2 * deltat + nu ** 2 * deltat ** 2) / deltax ** 2 + nu * deltat / deltax)\n",
    "            P_d = 0.5 * ((sigma ** 2 * deltat + nu ** 2 * deltat ** 2) / deltax ** 2 - nu * deltat / deltax)\n",
    "            P_m = 1 - (sigma ** 2 * deltat + nu ** 2 * deltat ** 2) / deltax ** 2\n",
    "            \n",
    "            up_put= put_price[:-2]\n",
    "            mid_put = put_price[1:-1]\n",
    "            down_put = put_price[2:]\n",
    "\n",
    "            local_value = np.maximum(contract.putstrike - Sgrid, 0) \n",
    "            \n",
    "            put_price = np.maximum(local_value,\n",
    "                                   np.exp(-dynamics.r * deltat) * (P_u * up_put + P_m * mid_put + P_d * down_put))\n",
    "\n",
    "            #if abs(t - contract.callexpiry)<= 1e-12 :\n",
    "            if abs(t-contract.callexpiry) <=1e-12 :   \n",
    "                call_price = np.maximum(put_price - contract.callstrike, 0)\n",
    "            elif t < contract.callexpiry:\n",
    "                up_call = call_price[:-2]\n",
    "                mid_call = call_price[1:-1]\n",
    "                down_call = call_price[2:]\n",
    "\n",
    "                call_price = np.exp(-dynamics.r * deltat) * (P_u * up_call + P_m * mid_call+ P_d * down_call)\n",
    "                #no need to choose max: European style, sno way to exercise prior to expiration. \n",
    "    \n",
    "        \n",
    "        price_of_put = put_price[0] #write code to compute this    \n",
    "\n",
    "        price_of_call_on_put = call_price[0] #write code to compute this\n",
    "    \n",
    "        return (price_of_put, price_of_call_on_put)\n",
    "    "
   ]
  },
  {
   "cell_type": "code",
   "execution_count": 49,
   "metadata": {},
   "outputs": [],
   "source": [
    "hw2tree = TrinomTree(N=3000)  #change if necessary to get $0.01 accuracy, in your judgment"
   ]
  },
  {
   "cell_type": "code",
   "execution_count": 50,
   "metadata": {},
   "outputs": [],
   "source": [
    "(answer_part_a, answer_part_b) = hw2tree.price_compound_localvol(hw2contract,hw2dynamics)"
   ]
  },
  {
   "cell_type": "code",
   "execution_count": 52,
   "metadata": {},
   "outputs": [
    {
     "name": "stdout",
     "output_type": "stream",
     "text": [
      "the price of the American style put is:  7.007352296510587\n",
      "the price of the European style call is: 1.5925531282199274\n"
     ]
    }
   ],
   "source": [
    "print(\"the price of the American style put is: \",answer_part_a )\n",
    "print(\"the price of the European style call is:\",answer_part_b )"
   ]
  },
  {
   "cell_type": "markdown",
   "metadata": {},
   "source": [
    "# Problem 2"
   ]
  },
  {
   "cell_type": "markdown",
   "metadata": {},
   "source": [
    "### a)"
   ]
  },
  {
   "cell_type": "markdown",
   "metadata": {},
   "source": [
    "For at-the-money vanilla call， the black scholes delta is \n",
    "\n",
    "\\begin{align}\n",
    "\\Delta = N(d1)\n",
    "\\end{align}\n",
    "\\begin{align}\n",
    "d_1 &= \\frac{(r + \\frac{\\sigma^2}{2}) \\sqrt{T}}{\\sigma}.\n",
    "\\end{align}"
   ]
  },
  {
   "cell_type": "markdown",
   "metadata": {},
   "source": [
    "If x is close to 0, we can apply Taylor expansion to first order:\n",
    "\n",
    "\\begin{equation}\n",
    "N(x) \\approx N(0) + N'(0) \\cdot x.\n",
    "\\end{equation}\n",
    "\n",
    "N(0) = 0.5, $N'(0) = \\frac{1}{\\sqrt{2 \\pi}}$, and x = d_1\n",
    "\n",
    "so:\n",
    "\\begin{align}\n",
    "\\Delta &\\approx 0.5 + \\frac{(r + \\frac{\\sigma^2}{2}) \\sqrt{T}}{\\sigma \\sqrt{2 \\pi}}\\\\\n",
    "&\\approx 0.5 + 0.4 \\cdot \\frac{(r + \\frac{\\sigma^2}{2}) \\sqrt{T}}{\\sigma}.\n",
    "\\end{align}\n",
    "\n",
    "\n",
    "\n",
    "\n",
    "\n"
   ]
  },
  {
   "cell_type": "markdown",
   "metadata": {},
   "source": [
    "plug in numbers that σ = 0.2 and T = 0.25 and r = 0.01.\n",
    "\n",
    "\\begin{align}\n",
    "\\Delta &\\approx 0.5 + 0.4 \\cdot 0.075\\\\\n",
    "&\\approx 0.53.\n",
    "\\end{align}"
   ]
  },
  {
   "cell_type": "markdown",
   "metadata": {},
   "source": [
    "### b)"
   ]
  },
  {
   "cell_type": "markdown",
   "metadata": {},
   "source": [
    "Second order Taylor Expansion:\n",
    "    \n",
    "\\begin{equation}\n",
    "C(x-4) \\approx C(4) + C'(4) \\cdot (x-4) + 0.5 \\cdot C''(4) \\cdot (x-4)^2.\\\\\n",
    "\\approx N(0) + \\Delta \\cdot x + 0.5 \\cdot \\Gamma \\cdot x^2\n",
    "\\end{equation}"
   ]
  },
  {
   "cell_type": "markdown",
   "metadata": {},
   "source": [
    "Then, we need to change dollar delta and dollar gamma into delta and gamma"
   ]
  },
  {
   "cell_type": "markdown",
   "metadata": {},
   "source": [
    "\\begin{align}\n",
    "DollarDelta = 3 \n",
    "&\\implies \\Delta = \\frac{3}{4}\\\\\n",
    "DollarGamma = 0.02\n",
    "&\\implies \\Gamma = \\frac{1}{8}\\\\\n",
    "\\end{align}\n",
    "\n"
   ]
  },
  {
   "cell_type": "markdown",
   "metadata": {},
   "source": [
    "Let's plug it in:\n",
    "\n",
    "- Now we have: x = 3.6, Delta = 3/4, Gamma = 1/8\n",
    "\n",
    "\\begin{align}\n",
    "C(3.6) &\\approx 5 + \\frac{3}{4} (3.6 - 4) + \\frac{1}{16} (3.6 - 4)^2\\\\\n",
    "&\\approx 5 + \\frac{3}{4} (-0.4) + \\frac{1}{16} (-0.4)^2\\\\\n",
    "&\\approx 4.71.\n",
    "\\end{align}"
   ]
  }
 ],
 "metadata": {
  "anaconda-cloud": {},
  "kernelspec": {
   "display_name": "Python 3 (ipykernel)",
   "language": "python",
   "name": "python3"
  },
  "language_info": {
   "codemirror_mode": {
    "name": "ipython",
    "version": 3
   },
   "file_extension": ".py",
   "mimetype": "text/x-python",
   "name": "python",
   "nbconvert_exporter": "python",
   "pygments_lexer": "ipython3",
   "version": "3.9.12"
  },
  "toc": {
   "base_numbering": 1,
   "nav_menu": {},
   "number_sections": true,
   "sideBar": true,
   "skip_h1_title": false,
   "title_cell": "Table of Contents",
   "title_sidebar": "Contents",
   "toc_cell": false,
   "toc_position": {},
   "toc_section_display": true,
   "toc_window_display": false
  }
 },
 "nbformat": 4,
 "nbformat_minor": 1
}

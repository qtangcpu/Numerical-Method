{
 "cells": [
  {
   "cell_type": "markdown",
   "metadata": {},
   "source": [
    "# Qianle_Tang_HW1"
   ]
  },
  {
   "cell_type": "code",
   "execution_count": 19,
   "metadata": {},
   "outputs": [],
   "source": [
    "import numpy as np\n",
    "from scipy.stats import norm\n",
    "from scipy.optimize import bisect, brentq\n",
    "import math"
   ]
  },
  {
   "cell_type": "markdown",
   "metadata": {},
   "source": [
    "# Problem 1"
   ]
  },
  {
   "cell_type": "code",
   "execution_count": 4,
   "metadata": {},
   "outputs": [],
   "source": [
    "class UpAndOutPut:\n",
    "    \n",
    "    def __init__(self, K, T, barrier, observationinterval):\n",
    "        self.K = K\n",
    "        self.T = T\n",
    "        self.barrier = barrier\n",
    "        self.observationinterval = observationinterval"
   ]
  },
  {
   "cell_type": "code",
   "execution_count": 5,
   "metadata": {},
   "outputs": [],
   "source": [
    "hw1contract = UpAndOutPut(K=95, T=0.25, barrier=114, observationinterval=0.02)"
   ]
  },
  {
   "cell_type": "code",
   "execution_count": 6,
   "metadata": {},
   "outputs": [],
   "source": [
    "class GBMdynamics: \n",
    "    \n",
    "    def __init__(self, S, r, rGrow, sigma=None):\n",
    "        self.S = S\n",
    "        self.r = r\n",
    "        self.rGrow = rGrow\n",
    "        self.sigma = sigma\n",
    "        \n",
    "    def update_sigma(self, sigma):\n",
    "        self.sigma = sigma\n",
    "        return self"
   ]
  },
  {
   "cell_type": "code",
   "execution_count": 7,
   "metadata": {},
   "outputs": [],
   "source": [
    "hw1dynamics = GBMdynamics(S=100, sigma=0.4, rGrow=0, r=0)"
   ]
  },
  {
   "cell_type": "code",
   "execution_count": 15,
   "metadata": {},
   "outputs": [],
   "source": [
    "class Tree:\n",
    "    \n",
    "    def __init__(self, N):\n",
    "        self.N = N\n",
    "                \n",
    "    def price_upandout(self, dynamics, contract): \n",
    "        \n",
    "        deltat = contract.T / self.N\n",
    "        J = np.ceil(np.log(contract.barrier/dynamics.S)/(dynamics.sigma*np.sqrt(3*deltat))-0.5)\n",
    "        deltax = np.log(contract.barrier/dynamics.S)/(J+0.5)\n",
    "        \n",
    "        Sgrid = dynamics.S*np.exp(np.linspace(self.N, -self.N, num=2*self.N+1, endpoint=True)*deltax)  \n",
    "        #Here I decided to make the SMALLER indexes in this array correspond to HIGHER S\n",
    "        \n",
    "        numTimestepsPerObs = contract.observationinterval/deltat\n",
    "        if abs(numTimestepsPerObs-round(numTimestepsPerObs)) > 1e-8:\n",
    "            raise ValueError(\"This value of N fails to place the observation dates in the tree.\")\n",
    "            \n",
    "        nu = 0        # complete this \n",
    "        Pu = 0.5*((dynamics.sigma**2*deltat + ((dynamics.rGrow-dynamics.sigma**2/2)**2)*(deltat**2))/deltax**2\\\n",
    "                  +(dynamics.rGrow-dynamics.sigma**2/2)*deltat/deltax)       \n",
    "        Pd = 0.5*((dynamics.sigma**2*deltat + ((dynamics.rGrow-dynamics.sigma**2/2)**2)*(deltat**2))/deltax**2\\\n",
    "                  -(dynamics.rGrow-dynamics.sigma**2/2)*deltat/deltax)   \n",
    "        Pm = 1 - ((dynamics.sigma**2*deltat + ((dynamics.rGrow-dynamics.sigma**2/2)**2)*(deltat**2))/deltax**2)\n",
    "\n",
    "        optionprice = np.maximum(contract.K-Sgrid,0)   #an array of time-T option prices.\n",
    "        \n",
    "        #Next, induct backwards to time 0, updating the optionprice array \n",
    "        #Hint: if x is an array, then what are x[2:] and x[1:-1] and x[:-2]\n",
    "    \n",
    "        for t in np.linspace(self.N-1, 0, num=self.N, endpoint=True)*deltat:\n",
    "            cur_price = []\n",
    "            for i in range(1,len(optionprice)-1):\n",
    "                #if t % contract.observationinterval == 0 and Sgrid[i] >= contract.barrier:\n",
    "                if abs(t % contract.observationinterval) < 1e-8 and Sgrid[i] >= contract.barrier:\n",
    "                    # check if its the observation date:\n",
    "                    cur_price.append(0)\n",
    "                else:\n",
    "                    cur_price.append(np.exp(-dynamics.r*deltat) * (Pu*optionprice[i-1] + Pm*optionprice[i] + Pd*optionprice[i+1]))\n",
    "            optionprice = cur_price\n",
    "            Sgrid = np.delete(Sgrid, [0,-1])\n",
    "                    \n",
    "        return optionprice[0]         \n",
    "    def price_upandout_continuous(self, dynamics, contract): \n",
    "        \n",
    "        deltat = contract.T / self.N\n",
    "        J = np.ceil(np.log(contract.barrier/dynamics.S)/(dynamics.sigma*np.sqrt(3*deltat))-0.5)\n",
    "        deltax = np.log(contract.barrier/dynamics.S)/(J+0.5)\n",
    "        \n",
    "        Sgrid = dynamics.S*np.exp(np.linspace(self.N, -self.N, num=2*self.N+1, endpoint=True)*deltax)  \n",
    "        #Here I decided to make the SMALLER indexes in this array correspond to HIGHER S\n",
    "        \n",
    "        numTimestepsPerObs = contract.observationinterval/deltat\n",
    "        if abs(numTimestepsPerObs-round(numTimestepsPerObs)) > 1e-8:\n",
    "            raise ValueError(\"This value of N fails to place the observation dates in the tree.\")\n",
    "            \n",
    "        nu = 0        # complete this \n",
    "        Pu = 0.5*((dynamics.sigma**2*deltat + ((dynamics.rGrow-dynamics.sigma**2/2)**2)*(deltat**2))/deltax**2\\\n",
    "                  +(dynamics.rGrow-dynamics.sigma**2/2)*deltat/deltax)       \n",
    "        Pd = 0.5*((dynamics.sigma**2*deltat + ((dynamics.rGrow-dynamics.sigma**2/2)**2)*(deltat**2))/deltax**2\\\n",
    "                  -(dynamics.rGrow-dynamics.sigma**2/2)*deltat/deltax)   \n",
    "        Pm = 1 - ((dynamics.sigma**2*deltat + ((dynamics.rGrow-dynamics.sigma**2/2)**2)*(deltat**2))/deltax**2)\n",
    "\n",
    "        optionprice = np.maximum(contract.K-Sgrid,0)   #an array of time-T option prices.\n",
    "        \n",
    "        #Next, induct backwards to time 0, updating the optionprice array \n",
    "        #Hint: if x is an array, then what are x[2:] and x[1:-1] and x[:-2]\n",
    "    \n",
    "        for t in np.linspace(self.N-1, 0, num=self.N, endpoint=True)*deltat:\n",
    "            cur_price = []\n",
    "            for i in range(1,len(optionprice)-1):\n",
    "                if Sgrid[i] >= contract.barrier:\n",
    "                    cur_price.append(0)\n",
    "                else:\n",
    "                    cur_price.append(np.exp(-dynamics.r*deltat) * (Pu*optionprice[i-1] + Pm*optionprice[i] + Pd*optionprice[i+1]))\n",
    "            optionprice = cur_price\n",
    "            Sgrid = np.delete(Sgrid, [0,-1])\n",
    "                    \n",
    "        return optionprice[0] \n",
    "        "
   ]
  },
  {
   "cell_type": "markdown",
   "metadata": {},
   "source": [
    "#### a) Write a Python function to price our option at time 0 using a trinomial tree."
   ]
  },
  {
   "cell_type": "code",
   "execution_count": 16,
   "metadata": {
    "scrolled": false
   },
   "outputs": [
    {
     "data": {
      "text/plain": [
       "5.30114218920439"
      ]
     },
     "execution_count": 16,
     "metadata": {},
     "output_type": "execute_result"
    }
   ],
   "source": [
    "hw1tree=Tree(N=10000)\n",
    "\n",
    "hw1tree.price_upandout(hw1dynamics, hw1contract)"
   ]
  },
  {
   "cell_type": "markdown",
   "metadata": {},
   "source": [
    "#### b) Using your part (a) result, find the time-0 price of the up-and-in put."
   ]
  },
  {
   "cell_type": "markdown",
   "metadata": {},
   "source": [
    "In-Out Partiry for Barrier Options: \n",
    "    \n",
    "- $UI(K,T,B) = Vanilla(K,T) - UO(K,T,B)$"
   ]
  },
  {
   "cell_type": "code",
   "execution_count": 17,
   "metadata": {},
   "outputs": [
    {
     "data": {
      "text/plain": [
       "5.519541063676975"
      ]
     },
     "execution_count": 17,
     "metadata": {},
     "output_type": "execute_result"
    }
   ],
   "source": [
    "# BS function for put option\n",
    "def BSput(sigma,S,rGrow,r,K,T):\n",
    "    F=S*np.exp(rGrow*T)\n",
    "    sd = sigma*np.sqrt(T)\n",
    "    d1 = np.log(F/K)/sd+sd/2\n",
    "    d2 = d1-sd\n",
    "    return np.exp(-r*T)*K*norm.cdf(-d2)-F*norm.cdf(-d1)\n",
    "\n",
    "vanilla_put = BSput(0.4, 100, 0, 0, 95, 0.25)\n",
    "vanilla_put"
   ]
  },
  {
   "cell_type": "code",
   "execution_count": 18,
   "metadata": {},
   "outputs": [
    {
     "name": "stdout",
     "output_type": "stream",
     "text": [
      "The time-0 price of the up-and-in put is:  0.21839887447258466\n"
     ]
    }
   ],
   "source": [
    "print(\"The time-0 price of the up-and-in put is: \", vanilla_put-5.30114218920439)"
   ]
  },
  {
   "cell_type": "markdown",
   "metadata": {},
   "source": [
    "#### c) Consider a continuously-monitored barrier option"
   ]
  },
  {
   "cell_type": "markdown",
   "metadata": {},
   "source": [
    "##### c1)"
   ]
  },
  {
   "cell_type": "markdown",
   "metadata": {},
   "source": [
    "time-0 price of the continuously-monitored barrier option should be smaller than the time-0 price of the discretely-monitored option. Intuitionally, this option is putting a stricter condition on the pay-off, so the price should be lower."
   ]
  },
  {
   "cell_type": "markdown",
   "metadata": {},
   "source": [
    "##### c2)"
   ]
  },
  {
   "cell_type": "markdown",
   "metadata": {},
   "source": [
    "$(114-95) - \\alpha (136.8-114) = 0$\n",
    "\n",
    "$\\therefore  \\alpha = 0.833$"
   ]
  },
  {
   "cell_type": "markdown",
   "metadata": {},
   "source": [
    "Based on the BSM, the time-0 price of the vanilla put is 5.52, and the time-0 price of the vanilla calls is 0.58\n",
    "\n",
    "so the the time-0 value of the continuously-monitored barrier option is $ 5.52 - 0.58*0.833 = 5.04$"
   ]
  },
  {
   "cell_type": "markdown",
   "metadata": {},
   "source": [
    "# Problem 2"
   ]
  },
  {
   "cell_type": "code",
   "execution_count": null,
   "metadata": {},
   "outputs": [],
   "source": [
    "# uses the same GBMdynamics class as in Problem 1"
   ]
  },
  {
   "cell_type": "code",
   "execution_count": 124,
   "metadata": {},
   "outputs": [],
   "source": [
    "class CallOption:\n",
    "    \n",
    "    def __init__(self, K, T, price=None):\n",
    "        self.K = K\n",
    "        self.T = T\n",
    "        self.price = price\n",
    "\n",
    "    def BSprice(self, dynamics):\n",
    "        # ignores self.price if given, because this function calculates price based on the dynamics \n",
    "        \n",
    "        F = dynamics.S*np.exp(dynamics.rGrow*self.T)\n",
    "        sd = dynamics.sigma*np.sqrt(self.T)\n",
    "        d1 = np.log(F/self.K)/sd+sd/2\n",
    "        d2 = d1-sd\n",
    "        return np.exp(-dynamics.r*self.T)*(F*norm.cdf(d1)-self.K*norm.cdf(d2))\n",
    "    \n",
    "    def IV(self, dynamics):\n",
    "        # ignores dynamics.sigma, because this function solves for sigma.  \n",
    "        \n",
    "        if self.price is None: \n",
    "            raise ValueError('Contract price must be given')\n",
    "    \n",
    "        df = np.exp(-dynamics.r*self.T)  #discount factor\n",
    "        F = dynamics.S / df\n",
    "        lowerbound = np.max([0,(F-self.K)*df])\n",
    "        C = self.price\n",
    "        if C<lowerbound:\n",
    "            return np.nan\n",
    "        if C==lowerbound:\n",
    "            return 0\n",
    "        if C>=F*df:\n",
    "            return np.nan \n",
    "        # C should be np.max([0,(F-self.K)*df]) < C < F*df\n",
    "\n",
    "        dytry = dynamics\n",
    "        # We \"try\" values of sigma until we find sigma that generates price C\n",
    "\n",
    "        # First find lower and upper bounds\n",
    "        dytry.sigma = 0.2\n",
    "        while self.BSprice(dytry)>C:\n",
    "            dytry.sigma /= 2\n",
    "        while self.BSprice(dytry)<C:\n",
    "            dytry.sigma *= 2\n",
    "        hi = dytry.sigma\n",
    "        lo = hi/2\n",
    "                           \n",
    "        # We have calculated \"lo\" and \"hi\" which bound the implied volatility from below and above. \n",
    "        # In other words, the implied volatility is somewhere in the interval [lo,hi].\n",
    "        # Then, to calculate the implied volatility within that interval, \n",
    "        # for purposes of this homework, you may either (A) write your own bisection algorithm, \n",
    "        # or (B) use scipy.optimize.bisect or (C) use scipy.optimize.brentq\n",
    "        # You will need to provide lo and hi to those solvers.\n",
    "        # There are other solvers that do not require you to bound the solution \n",
    "        # from below and above (for instance, scipy.optimize.fsolve is a useful solver).  \n",
    "        # However, if you are able to bound the solution (of a single-variable problem), \n",
    "        # then bisection or Brent will be more reliable.\n",
    "        function = lambda sigma: self.BSprice(dynamics.update_sigma(sigma)) - self.price\n",
    "        impliedVolatility = brentq(function , a=lo, b=hi, xtol=1e-4)     # you fill this in, using bisect or brentq imported from scipy.optimize,\n",
    "                                 # or by writing your own bisection algorithm.\n",
    "        return impliedVolatility\n"
   ]
  },
  {
   "cell_type": "markdown",
   "metadata": {},
   "source": [
    "#### a) Find the time-0 Black-Scholes implied volatilities of these two options, by completing the coding of the IV function."
   ]
  },
  {
   "cell_type": "code",
   "execution_count": 125,
   "metadata": {},
   "outputs": [
    {
     "name": "stdout",
     "output_type": "stream",
     "text": [
      "The implied volality of European calls on S at 0.5-year with C = 11.25:  0.40013455766201506\n"
     ]
    }
   ],
   "source": [
    "#European calls on S at 0.5-year with C = 11.25\n",
    "dynamics2 = GBMdynamics(sigma=0.4, rGrow=0, S=100, r=0)\n",
    "contract1 = CallOption(K=100, T=0.5)\n",
    "contract1.price = 11.25\n",
    "print(\"The implied volality of European calls on S at 0.5-year with C = 11.25: \",contract1.IV(dynamics2))"
   ]
  },
  {
   "cell_type": "code",
   "execution_count": 126,
   "metadata": {},
   "outputs": [
    {
     "name": "stdout",
     "output_type": "stream",
     "text": [
      "The implied volality of European calls on S at 1-year with C = 12:  0.3019382674808541\n"
     ]
    }
   ],
   "source": [
    "#European calls on S at 1-year with C = 12\n",
    "contract2 = CallOption(K=100, T=1)\n",
    "contract2.price = 12\n",
    "print(\"The implied volality of European calls on S at 1-year with C = 12: \",contract2.IV(dynamics2))"
   ]
  },
  {
   "cell_type": "markdown",
   "metadata": {},
   "source": [
    "#### b) Under that assumption, what would be the time-0 price of the 0.75-expiry call?"
   ]
  },
  {
   "cell_type": "code",
   "execution_count": 127,
   "metadata": {},
   "outputs": [
    {
     "data": {
      "text/plain": [
       "0.3510364125714346"
      ]
     },
     "execution_count": 127,
     "metadata": {},
     "output_type": "execute_result"
    }
   ],
   "source": [
    "# The implied volality of this option is \n",
    "implied_volality = (0.40013455766201506+ 0.3019382674808541)/ 2\n",
    "implied_volality"
   ]
  },
  {
   "cell_type": "code",
   "execution_count": 128,
   "metadata": {},
   "outputs": [
    {
     "name": "stdout",
     "output_type": "stream",
     "text": [
      "The time-0 price of the 0.75-expiry call is:  12.081560834203216\n"
     ]
    }
   ],
   "source": [
    "#The Price \n",
    "dynamics3 = GBMdynamics(sigma=implied_volality, rGrow=0, S=100, r=0)\n",
    "contract3 = CallOption(K=100, T=0.75)\n",
    "print(\"The time-0 price of the 0.75-expiry call is: \",contract3.BSprice(dynamics3))"
   ]
  },
  {
   "cell_type": "markdown",
   "metadata": {},
   "source": [
    "#### c) Arbitrage"
   ]
  },
  {
   "cell_type": "markdown",
   "metadata": {},
   "source": [
    "We can long one share of contract2(1T) and short one share of contract3(0.75T)"
   ]
  },
  {
   "cell_type": "markdown",
   "metadata": {},
   "source": [
    "- The time-0 value of your portfolio is -12.08+12 = -0.08"
   ]
  },
  {
   "cell_type": "markdown",
   "metadata": {},
   "source": [
    "- The time-1 value of your portfolio is always greater than 0 since the risk-free interest rate is 0, and\n",
    "    - - at time 0.75, you settle your 0.75T option(short), so you get -1 share of stock and K dollars \n",
    "    - - at time 1, you always settle your 1T option, so you get 1 share of stock and −K dollars\n",
    "    - - two payoffs cancell out."
   ]
  },
  {
   "cell_type": "code",
   "execution_count": null,
   "metadata": {},
   "outputs": [],
   "source": []
  }
 ],
 "metadata": {
  "anaconda-cloud": {},
  "kernelspec": {
   "display_name": "Python 3 (ipykernel)",
   "language": "python",
   "name": "python3"
  },
  "language_info": {
   "codemirror_mode": {
    "name": "ipython",
    "version": 3
   },
   "file_extension": ".py",
   "mimetype": "text/x-python",
   "name": "python",
   "nbconvert_exporter": "python",
   "pygments_lexer": "ipython3",
   "version": "3.9.12"
  },
  "toc": {
   "base_numbering": 1,
   "nav_menu": {},
   "number_sections": true,
   "sideBar": true,
   "skip_h1_title": false,
   "title_cell": "Table of Contents",
   "title_sidebar": "Contents",
   "toc_cell": false,
   "toc_position": {},
   "toc_section_display": true,
   "toc_window_display": false
  }
 },
 "nbformat": 4,
 "nbformat_minor": 2
}
